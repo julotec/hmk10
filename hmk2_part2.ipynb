{
  "nbformat": 4,
  "nbformat_minor": 0,
  "metadata": {
    "colab": {
      "provenance": [],
      "gpuType": "T4",
      "authorship_tag": "ABX9TyOiCEsxynZIlcO92Pb/zj86",
      "include_colab_link": true
    },
    "kernelspec": {
      "name": "python3",
      "display_name": "Python 3"
    },
    "language_info": {
      "name": "python"
    },
    "accelerator": "GPU"
  },
  "cells": [
    {
      "cell_type": "markdown",
      "metadata": {
        "id": "view-in-github",
        "colab_type": "text"
      },
      "source": [
        "<a href=\"https://colab.research.google.com/github/julotec/hmk10/blob/main/hmk2_part2.ipynb\" target=\"_parent\"><img src=\"https://colab.research.google.com/assets/colab-badge.svg\" alt=\"Open In Colab\"/></a>"
      ]
    },
    {
      "cell_type": "code",
      "source": [
        "import numpy as np\n",
        "import tensorflow as tf\n",
        "from tensorflow.keras import layers, models\n",
        "from tensorflow.keras.applications import VGG16\n",
        "from tensorflow.keras.datasets import fashion_mnist\n",
        "from tensorflow.keras.utils import to_categorical\n",
        "from tensorflow.keras.preprocessing.image import ImageDataGenerator"
      ],
      "metadata": {
        "id": "br7CRgBpcYyT"
      },
      "execution_count": 2,
      "outputs": []
    },
    {
      "cell_type": "code",
      "source": [
        "# Wczytanie danych\n",
        "(train_images, train_labels), (test_images, test_labels) = fashion_mnist.load_data()\n",
        "\n",
        "# Przygotowanie danych dla VGG16 (przekształcenie do formatu 3-kanałowego)\n",
        "train_images = np.stack([train_images]*3, axis=-1)\n",
        "test_images = np.stack([test_images]*3, axis=-1)\n",
        "\n",
        "# Konwersja etykiet na kategorie\n",
        "train_labels = to_categorical(train_labels)\n",
        "test_labels = to_categorical(test_labels)"
      ],
      "metadata": {
        "colab": {
          "base_uri": "https://localhost:8080/"
        },
        "id": "_z_iZTogchpi",
        "outputId": "dcf00a31-b8e8-4443-8c4a-f0fc8db0d494"
      },
      "execution_count": 3,
      "outputs": [
        {
          "output_type": "stream",
          "name": "stdout",
          "text": [
            "Downloading data from https://storage.googleapis.com/tensorflow/tf-keras-datasets/train-labels-idx1-ubyte.gz\n",
            "29515/29515 [==============================] - 0s 0us/step\n",
            "Downloading data from https://storage.googleapis.com/tensorflow/tf-keras-datasets/train-images-idx3-ubyte.gz\n",
            "26421880/26421880 [==============================] - 0s 0us/step\n",
            "Downloading data from https://storage.googleapis.com/tensorflow/tf-keras-datasets/t10k-labels-idx1-ubyte.gz\n",
            "5148/5148 [==============================] - 0s 0us/step\n",
            "Downloading data from https://storage.googleapis.com/tensorflow/tf-keras-datasets/t10k-images-idx3-ubyte.gz\n",
            "4422102/4422102 [==============================] - 0s 0us/step\n"
          ]
        }
      ]
    },
    {
      "cell_type": "code",
      "source": [
        "# Definiowanie funkcji do zmiany rozdzielczości i normalizacji\n",
        "def preprocess_function(image, label):\n",
        "    image = tf.image.resize(image, (128, 128))\n",
        "    image = image / 255.0\n",
        "    return image, label\n",
        "\n",
        "# Tworzenie datasetów\n",
        "train_dataset = tf.data.Dataset.from_tensor_slices((train_images, train_labels))\n",
        "train_dataset = train_dataset.map(preprocess_function).batch(16).prefetch(tf.data.AUTOTUNE)\n",
        "\n",
        "val_dataset = tf.data.Dataset.from_tensor_slices((test_images, test_labels))\n",
        "val_dataset = val_dataset.map(preprocess_function).batch(16).prefetch(tf.data.AUTOTUNE)"
      ],
      "metadata": {
        "id": "qL6ASVItnkl6"
      },
      "execution_count": 4,
      "outputs": []
    },
    {
      "cell_type": "code",
      "source": [
        "# Użycie pretrenowanego modelu VGG16\n",
        "vgg_base = VGG16(weights='imagenet', include_top=False, input_shape=(128, 128, 3))\n",
        "vgg_base.trainable = False  # Zamrożenie wag modelu\n",
        "\n",
        "# Dodanie własnych warstw gęstych na szczycie bazy konwolucyjnej\n",
        "model = models.Sequential([\n",
        "    vgg_base,\n",
        "    layers.Flatten(),\n",
        "    layers.Dense(256, activation='relu'),\n",
        "    layers.Dropout(0.5),\n",
        "    layers.Dense(10, activation='softmax')\n",
        "])\n",
        "\n",
        "model.summary()"
      ],
      "metadata": {
        "colab": {
          "base_uri": "https://localhost:8080/"
        },
        "id": "Wqtk3IvNocqs",
        "outputId": "28f562a0-2a2b-47e5-bc20-727dfda9911a"
      },
      "execution_count": 5,
      "outputs": [
        {
          "output_type": "stream",
          "name": "stdout",
          "text": [
            "Downloading data from https://storage.googleapis.com/tensorflow/keras-applications/vgg16/vgg16_weights_tf_dim_ordering_tf_kernels_notop.h5\n",
            "58889256/58889256 [==============================] - 1s 0us/step\n",
            "Model: \"sequential\"\n",
            "_________________________________________________________________\n",
            " Layer (type)                Output Shape              Param #   \n",
            "=================================================================\n",
            " vgg16 (Functional)          (None, 4, 4, 512)         14714688  \n",
            "                                                                 \n",
            " flatten (Flatten)           (None, 8192)              0         \n",
            "                                                                 \n",
            " dense (Dense)               (None, 256)               2097408   \n",
            "                                                                 \n",
            " dropout (Dropout)           (None, 256)               0         \n",
            "                                                                 \n",
            " dense_1 (Dense)             (None, 10)                2570      \n",
            "                                                                 \n",
            "=================================================================\n",
            "Total params: 16814666 (64.14 MB)\n",
            "Trainable params: 2099978 (8.01 MB)\n",
            "Non-trainable params: 14714688 (56.13 MB)\n",
            "_________________________________________________________________\n"
          ]
        }
      ]
    },
    {
      "cell_type": "code",
      "source": [
        "# Kompilacja modelu\n",
        "model.compile(optimizer='adam',\n",
        "              loss='categorical_crossentropy',\n",
        "              metrics=['accuracy'])\n",
        "\n",
        "# Definiowanie kroków na epokę\n",
        "steps_per_epoch = len(train_images) // 16  # Ustawienie kroków na podstawie batch size\n",
        "\n",
        "# Trenowanie modelu z ograniczoną ilością kroków na epokę\n",
        "history = model.fit(train_dataset, epochs=10, steps_per_epoch=steps_per_epoch, validation_data=val_dataset)\n",
        "\n",
        "# Ewaluacja modelu\n",
        "test_loss, test_acc = model.evaluate(val_dataset)\n",
        "print(f\"VGG16-based CNN Test accuracy: {test_acc}\")"
      ],
      "metadata": {
        "colab": {
          "base_uri": "https://localhost:8080/"
        },
        "id": "OM94JyEZqs_D",
        "outputId": "786ad129-f0d3-48d3-9c16-9e56c801a4b8"
      },
      "execution_count": 6,
      "outputs": [
        {
          "output_type": "stream",
          "name": "stdout",
          "text": [
            "Epoch 1/10\n",
            "3750/3750 [==============================] - 120s 30ms/step - loss: 0.5120 - accuracy: 0.8169 - val_loss: 0.3656 - val_accuracy: 0.8690\n",
            "Epoch 2/10\n",
            "3750/3750 [==============================] - 106s 28ms/step - loss: 0.4015 - accuracy: 0.8555 - val_loss: 0.3153 - val_accuracy: 0.8858\n",
            "Epoch 3/10\n",
            "3750/3750 [==============================] - 106s 28ms/step - loss: 0.3670 - accuracy: 0.8663 - val_loss: 0.3017 - val_accuracy: 0.8900\n",
            "Epoch 4/10\n",
            "3750/3750 [==============================] - 106s 28ms/step - loss: 0.3465 - accuracy: 0.8738 - val_loss: 0.2887 - val_accuracy: 0.8943\n",
            "Epoch 5/10\n",
            "3750/3750 [==============================] - 112s 30ms/step - loss: 0.3282 - accuracy: 0.8816 - val_loss: 0.2935 - val_accuracy: 0.8973\n",
            "Epoch 6/10\n",
            "3750/3750 [==============================] - 106s 28ms/step - loss: 0.3159 - accuracy: 0.8837 - val_loss: 0.2991 - val_accuracy: 0.8922\n",
            "Epoch 7/10\n",
            "3750/3750 [==============================] - 112s 30ms/step - loss: 0.3089 - accuracy: 0.8864 - val_loss: 0.3008 - val_accuracy: 0.8931\n",
            "Epoch 8/10\n",
            "3750/3750 [==============================] - 106s 28ms/step - loss: 0.2961 - accuracy: 0.8895 - val_loss: 0.2811 - val_accuracy: 0.9043\n",
            "Epoch 9/10\n",
            "3750/3750 [==============================] - 112s 30ms/step - loss: 0.2953 - accuracy: 0.8920 - val_loss: 0.2870 - val_accuracy: 0.8985\n",
            "Epoch 10/10\n",
            "3750/3750 [==============================] - 112s 30ms/step - loss: 0.2837 - accuracy: 0.8951 - val_loss: 0.2868 - val_accuracy: 0.8985\n",
            "625/625 [==============================] - 15s 24ms/step - loss: 0.2868 - accuracy: 0.8985\n",
            "VGG16-based CNN Test accuracy: 0.8985000252723694\n"
          ]
        }
      ]
    }
  ]
}