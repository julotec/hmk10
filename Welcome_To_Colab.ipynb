{
  "cells": [
    {
      "cell_type": "markdown",
      "metadata": {
        "id": "view-in-github",
        "colab_type": "text"
      },
      "source": [
        "<a href=\"https://colab.research.google.com/github/julotec/hmk10/blob/main/Welcome_To_Colab.ipynb\" target=\"_parent\"><img src=\"https://colab.research.google.com/assets/colab-badge.svg\" alt=\"Open In Colab\"/></a>"
      ]
    },
    {
      "cell_type": "code",
      "source": [
        "import numpy as np\n",
        "import tensorflow as tf\n",
        "from tensorflow.keras import layers, models\n",
        "from tensorflow.keras.datasets import fashion_mnist\n",
        "from tensorflow.keras.utils import to_categorical"
      ],
      "metadata": {
        "id": "zEARRR3oPp_H"
      },
      "execution_count": 1,
      "outputs": []
    },
    {
      "cell_type": "code",
      "source": [
        "# Wczytanie danych\n",
        "(train_images, train_labels), (test_images, test_labels) = fashion_mnist.load_data()\n",
        "\n",
        "# Przygotowanie danych\n",
        "train_images = train_images.reshape((60000, 28, 28, 1))\n",
        "test_images = test_images.reshape((10000, 28, 28, 1))\n",
        "train_images = train_images.astype('float32') / 255\n",
        "test_images = test_images.astype('float32') / 255\n",
        "\n",
        "# Konwersja etykiet na kategorie\n",
        "train_labels = to_categorical(train_labels)\n",
        "test_labels = to_categorical(test_labels)"
      ],
      "metadata": {
        "id": "eM1ml_2FQPxs",
        "outputId": "e908ac0d-cd65-484e-982a-c4aab09b9c11",
        "colab": {
          "base_uri": "https://localhost:8080/"
        }
      },
      "execution_count": 2,
      "outputs": [
        {
          "output_type": "stream",
          "name": "stdout",
          "text": [
            "Downloading data from https://storage.googleapis.com/tensorflow/tf-keras-datasets/train-labels-idx1-ubyte.gz\n",
            "29515/29515 [==============================] - 0s 0us/step\n",
            "Downloading data from https://storage.googleapis.com/tensorflow/tf-keras-datasets/train-images-idx3-ubyte.gz\n",
            "26421880/26421880 [==============================] - 0s 0us/step\n",
            "Downloading data from https://storage.googleapis.com/tensorflow/tf-keras-datasets/t10k-labels-idx1-ubyte.gz\n",
            "5148/5148 [==============================] - 0s 0us/step\n",
            "Downloading data from https://storage.googleapis.com/tensorflow/tf-keras-datasets/t10k-images-idx3-ubyte.gz\n",
            "4422102/4422102 [==============================] - 0s 0us/step\n"
          ]
        }
      ]
    },
    {
      "cell_type": "code",
      "source": [
        "model = models.Sequential()\n",
        "model.add(layers.Conv2D(32, (3, 3), activation='relu', input_shape=(28, 28, 1)))\n",
        "model.add(layers.MaxPooling2D((2, 2)))\n",
        "model.add(layers.Conv2D(64, (3, 3), activation='relu'))\n",
        "model.add(layers.MaxPooling2D((2, 2)))\n",
        "model.add(layers.Conv2D(64, (3, 3), activation='relu'))\n",
        "\n",
        "model.add(layers.Flatten())\n",
        "model.add(layers.Dense(64, activation='relu'))\n",
        "model.add(layers.Dense(10, activation='softmax'))\n",
        "\n",
        "model.summary()"
      ],
      "metadata": {
        "id": "JTi619rNQVZ2",
        "outputId": "1179a772-bc92-4fdd-d229-8960ce607548",
        "colab": {
          "base_uri": "https://localhost:8080/"
        }
      },
      "execution_count": 3,
      "outputs": [
        {
          "output_type": "stream",
          "name": "stdout",
          "text": [
            "Model: \"sequential\"\n",
            "_________________________________________________________________\n",
            " Layer (type)                Output Shape              Param #   \n",
            "=================================================================\n",
            " conv2d (Conv2D)             (None, 26, 26, 32)        320       \n",
            "                                                                 \n",
            " max_pooling2d (MaxPooling2  (None, 13, 13, 32)        0         \n",
            " D)                                                              \n",
            "                                                                 \n",
            " conv2d_1 (Conv2D)           (None, 11, 11, 64)        18496     \n",
            "                                                                 \n",
            " max_pooling2d_1 (MaxPoolin  (None, 5, 5, 64)          0         \n",
            " g2D)                                                            \n",
            "                                                                 \n",
            " conv2d_2 (Conv2D)           (None, 3, 3, 64)          36928     \n",
            "                                                                 \n",
            " flatten (Flatten)           (None, 576)               0         \n",
            "                                                                 \n",
            " dense (Dense)               (None, 64)                36928     \n",
            "                                                                 \n",
            " dense_1 (Dense)             (None, 10)                650       \n",
            "                                                                 \n",
            "=================================================================\n",
            "Total params: 93322 (364.54 KB)\n",
            "Trainable params: 93322 (364.54 KB)\n",
            "Non-trainable params: 0 (0.00 Byte)\n",
            "_________________________________________________________________\n"
          ]
        }
      ]
    },
    {
      "cell_type": "code",
      "source": [
        "model.compile(optimizer='adam',\n",
        "              loss='categorical_crossentropy',\n",
        "              metrics=['accuracy'])\n",
        "\n",
        "history = model.fit(train_images, train_labels, epochs=10, batch_size=64, validation_split=0.2)\n"
      ],
      "metadata": {
        "id": "HUA2qAAMQbc9",
        "outputId": "3ff3f5f5-5df1-4942-832a-b4216bbafa56",
        "colab": {
          "base_uri": "https://localhost:8080/"
        }
      },
      "execution_count": 4,
      "outputs": [
        {
          "output_type": "stream",
          "name": "stdout",
          "text": [
            "Epoch 1/10\n",
            "750/750 [==============================] - 43s 55ms/step - loss: 0.5669 - accuracy: 0.7899 - val_loss: 0.3879 - val_accuracy: 0.8636\n",
            "Epoch 2/10\n",
            "750/750 [==============================] - 41s 55ms/step - loss: 0.3538 - accuracy: 0.8715 - val_loss: 0.3232 - val_accuracy: 0.8830\n",
            "Epoch 3/10\n",
            "750/750 [==============================] - 42s 57ms/step - loss: 0.3038 - accuracy: 0.8900 - val_loss: 0.2978 - val_accuracy: 0.8916\n",
            "Epoch 4/10\n",
            "750/750 [==============================] - 42s 56ms/step - loss: 0.2737 - accuracy: 0.8994 - val_loss: 0.2812 - val_accuracy: 0.8982\n",
            "Epoch 5/10\n",
            "750/750 [==============================] - 43s 57ms/step - loss: 0.2474 - accuracy: 0.9099 - val_loss: 0.2988 - val_accuracy: 0.8907\n",
            "Epoch 6/10\n",
            "750/750 [==============================] - 41s 54ms/step - loss: 0.2270 - accuracy: 0.9174 - val_loss: 0.2639 - val_accuracy: 0.9050\n",
            "Epoch 7/10\n",
            "750/750 [==============================] - 42s 56ms/step - loss: 0.2086 - accuracy: 0.9247 - val_loss: 0.2485 - val_accuracy: 0.9115\n",
            "Epoch 8/10\n",
            "750/750 [==============================] - 41s 55ms/step - loss: 0.1918 - accuracy: 0.9298 - val_loss: 0.2555 - val_accuracy: 0.9100\n",
            "Epoch 9/10\n",
            "750/750 [==============================] - 41s 55ms/step - loss: 0.1743 - accuracy: 0.9365 - val_loss: 0.2522 - val_accuracy: 0.9112\n",
            "Epoch 10/10\n",
            "750/750 [==============================] - 43s 58ms/step - loss: 0.1598 - accuracy: 0.9401 - val_loss: 0.2512 - val_accuracy: 0.9140\n"
          ]
        }
      ]
    },
    {
      "cell_type": "code",
      "source": [
        "test_loss, test_acc = model.evaluate(test_images, test_labels)\n",
        "print(f\"Test accuracy: {test_acc}\")"
      ],
      "metadata": {
        "id": "xk_Mrnt2SV3l",
        "outputId": "58f54ce1-99bd-48f3-f41f-c31c5e67a4a1",
        "colab": {
          "base_uri": "https://localhost:8080/"
        }
      },
      "execution_count": 5,
      "outputs": [
        {
          "output_type": "stream",
          "name": "stdout",
          "text": [
            "313/313 [==============================] - 3s 8ms/step - loss: 0.2638 - accuracy: 0.9102\n",
            "Test accuracy: 0.9101999998092651\n"
          ]
        }
      ]
    },
    {
      "cell_type": "code",
      "source": [
        "mlp_model = models.Sequential()\n",
        "mlp_model.add(layers.Flatten(input_shape=(28, 28)))\n",
        "mlp_model.add(layers.Dense(512, activation='relu'))\n",
        "mlp_model.add(layers.Dense(10, activation='softmax'))\n",
        "\n",
        "mlp_model.compile(optimizer='adam',\n",
        "                  loss='categorical_crossentropy',\n",
        "                  metrics=['accuracy'])\n",
        "\n",
        "mlp_history = mlp_model.fit(train_images, train_labels, epochs=10, batch_size=64, validation_split=0.2)\n",
        "\n",
        "mlp_test_loss, mlp_test_acc = mlp_model.evaluate(test_images, test_labels)\n",
        "print(f\"MLP Test accuracy: {mlp_test_acc}\")\n"
      ],
      "metadata": {
        "id": "qyKU3SXVSmrZ",
        "outputId": "498b148f-33c3-4cc2-d93b-8e9513dee4e1",
        "colab": {
          "base_uri": "https://localhost:8080/"
        }
      },
      "execution_count": 6,
      "outputs": [
        {
          "output_type": "stream",
          "name": "stdout",
          "text": [
            "Epoch 1/10\n",
            "750/750 [==============================] - 8s 10ms/step - loss: 0.5058 - accuracy: 0.8211 - val_loss: 0.4243 - val_accuracy: 0.8484\n",
            "Epoch 2/10\n",
            "750/750 [==============================] - 6s 8ms/step - loss: 0.3745 - accuracy: 0.8645 - val_loss: 0.3695 - val_accuracy: 0.8685\n",
            "Epoch 3/10\n",
            "750/750 [==============================] - 8s 10ms/step - loss: 0.3348 - accuracy: 0.8771 - val_loss: 0.3409 - val_accuracy: 0.8737\n",
            "Epoch 4/10\n",
            "750/750 [==============================] - 6s 8ms/step - loss: 0.3080 - accuracy: 0.8870 - val_loss: 0.3256 - val_accuracy: 0.8851\n",
            "Epoch 5/10\n",
            "750/750 [==============================] - 7s 10ms/step - loss: 0.2883 - accuracy: 0.8934 - val_loss: 0.3452 - val_accuracy: 0.8733\n",
            "Epoch 6/10\n",
            "750/750 [==============================] - 6s 8ms/step - loss: 0.2745 - accuracy: 0.8980 - val_loss: 0.3149 - val_accuracy: 0.8874\n",
            "Epoch 7/10\n",
            "750/750 [==============================] - 8s 11ms/step - loss: 0.2590 - accuracy: 0.9023 - val_loss: 0.3143 - val_accuracy: 0.8873\n",
            "Epoch 8/10\n",
            "750/750 [==============================] - 7s 9ms/step - loss: 0.2496 - accuracy: 0.9057 - val_loss: 0.3124 - val_accuracy: 0.8866\n",
            "Epoch 9/10\n",
            "750/750 [==============================] - 7s 10ms/step - loss: 0.2354 - accuracy: 0.9134 - val_loss: 0.2981 - val_accuracy: 0.8950\n",
            "Epoch 10/10\n",
            "750/750 [==============================] - 6s 8ms/step - loss: 0.2279 - accuracy: 0.9136 - val_loss: 0.3167 - val_accuracy: 0.8907\n",
            "313/313 [==============================] - 1s 3ms/step - loss: 0.3446 - accuracy: 0.8819\n",
            "MLP Test accuracy: 0.8819000124931335\n"
          ]
        }
      ]
    },
    {
      "cell_type": "code",
      "source": [
        "print(f\"CNN Test accuracy: {test_acc}\")\n",
        "print(f\"MLP Test accuracy: {mlp_test_acc}\")\n"
      ],
      "metadata": {
        "id": "GP5QuuOxTAjW",
        "outputId": "511236a1-d7c9-4994-b53a-29908ca35c50",
        "colab": {
          "base_uri": "https://localhost:8080/"
        }
      },
      "execution_count": 7,
      "outputs": [
        {
          "output_type": "stream",
          "name": "stdout",
          "text": [
            "CNN Test accuracy: 0.9101999998092651\n",
            "MLP Test accuracy: 0.8819000124931335\n"
          ]
        }
      ]
    },
    {
      "cell_type": "markdown",
      "source": [
        "\n",
        "**Wnioski:**\n",
        "\n",
        "Sieci konwolucyjne (CNN) zazwyczaj osiągają wyższą dokładność na zestawach danych obrazowych takich jak Fashion MNIST, ponieważ są w stanie uchwycić lokalne wzorce w danych za pomocą warstw konwolucyjnych. W przeciwieństwie do tego, sieci MLP (wielowarstwowe perceptrony) mogą mieć trudności z uchwyceniem takich wzorców, ponieważ traktują wejściowe piksele jako niezależne cechy.\n",
        "\n",
        "Jeśli model CNN osiągnie wyższą dokładność niż model MLP, potwierdzi to powyższe założenia. Jeśli nie, może to sugerować konieczność dalszej optymalizacji modelu CNN, np. poprzez dostosowanie liczby warstw, liczby filtrów, wielkości wsadów, czy innych hiperparametrów."
      ],
      "metadata": {
        "id": "NqHqkIBMTP0O"
      }
    }
  ],
  "metadata": {
    "colab": {
      "name": "Welcome To Colab",
      "toc_visible": true,
      "provenance": [],
      "include_colab_link": true
    },
    "kernelspec": {
      "display_name": "Python 3",
      "name": "python3"
    }
  },
  "nbformat": 4,
  "nbformat_minor": 0
}